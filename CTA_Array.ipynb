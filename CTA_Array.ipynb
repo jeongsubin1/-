{
  "nbformat": 4,
  "nbformat_minor": 0,
  "metadata": {
    "colab": {
      "provenance": [],
      "authorship_tag": "ABX9TyPXBJp8wBE5wurG02/a+Y9L",
      "include_colab_link": true
    },
    "kernelspec": {
      "name": "python3",
      "display_name": "Python 3"
    },
    "language_info": {
      "name": "python"
    }
  },
  "cells": [
    {
      "cell_type": "markdown",
      "metadata": {
        "id": "view-in-github",
        "colab_type": "text"
      },
      "source": [
        "<a href=\"https://colab.research.google.com/github/jeongsubin1/-/blob/main/CTA_Array.ipynb\" target=\"_parent\"><img src=\"https://colab.research.google.com/assets/colab-badge.svg\" alt=\"Open In Colab\"/></a>"
      ]
    },
    {
      "cell_type": "code",
      "execution_count": null,
      "metadata": {
        "id": "bj7XnyRnLaMh"
      },
      "outputs": [],
      "source": []
    },
    {
      "cell_type": "markdown",
      "source": [
        "1. 배열의 선언\n",
        "  - 일반 변수의 선언 : 변수명 = 변수의 값\n",
        "  - 배열의 변수 선언 : 변수명 = [ ,  , ]"
      ],
      "metadata": {
        "id": "NlvXln-6MHMa"
      }
    },
    {
      "cell_type": "code",
      "source": [
        "movie_list = [\"아바타\", \"타이타닉\", \"스타워즈\", \"쥬라기월드\", \"어벤저스\"]\n",
        "print(movie_list[0])\n",
        "print(movie_list[4])"
      ],
      "metadata": {
        "colab": {
          "base_uri": "https://localhost:8080/"
        },
        "id": "SJY-agUQNUjo",
        "outputId": "996918fa-8310-4f18-a525-416b250b7f09"
      },
      "execution_count": 3,
      "outputs": [
        {
          "output_type": "stream",
          "name": "stdout",
          "text": [
            "아바타\n",
            "어벤저스\n"
          ]
        }
      ]
    },
    {
      "cell_type": "markdown",
      "source": [
        "2. 요일을 배열로 선언하라.\n",
        "  - 변수명 : day_list\n",
        "  * 요일 : 월(Mon.), 화(Tues), 수(Wed.), 목(Thut), 금(Fri.), 토(Sat.), 일(Sun.)"
      ],
      "metadata": {
        "id": "d0tfydcDOarB"
      }
    },
    {
      "cell_type": "code",
      "source": [
        "day_list = [\"월(Mon.)\", \"화(Tues)\", \"수(Wed.)\", \"목(Thut)\", \"금(Fri.)\", \"토(Sat.)\", \"일(Sun.)\"]\n",
        "print(day_list[0])\n",
        "print(day_list[1])\n",
        "print(day_list[2])\n",
        "print(day_list[3])\n",
        "print(day_list[4])\n",
        "print(day_list[5])\n",
        "print(day_list[6])"
      ],
      "metadata": {
        "colab": {
          "base_uri": "https://localhost:8080/"
        },
        "id": "8_1KEkO6O_B5",
        "outputId": "a473cd84-69f4-44b8-896f-d52067103297"
      },
      "execution_count": 8,
      "outputs": [
        {
          "output_type": "stream",
          "name": "stdout",
          "text": [
            "월(Mon.)\n",
            "화(Tues)\n",
            "수(Wed.)\n",
            "목(Thut)\n",
            "금(Fri.)\n",
            "토(Sat.)\n",
            "일(Sun.)\n"
          ]
        }
      ]
    }
  ]
}